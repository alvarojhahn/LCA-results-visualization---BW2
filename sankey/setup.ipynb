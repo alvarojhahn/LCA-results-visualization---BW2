{
 "cells": [
  {
   "cell_type": "markdown",
   "id": "c3f10ff8",
   "metadata": {},
   "source": [
    "### Setup Brightway2 project"
   ]
  },
  {
   "cell_type": "markdown",
   "id": "fcdc0419",
   "metadata": {},
   "source": [
    "This 'setup' notebook creates the Brigthway2 project we will be working with. For more detailed information on how to approach the basis of BW2, please check the work from Max Koslowski:\n",
    "\n",
    "https://github.com/maximikos/Brightway2_Intro/blob/master/BW2_tutorial.ipynb"
   ]
  },
  {
   "cell_type": "code",
   "execution_count": 1,
   "id": "2e595cd1",
   "metadata": {},
   "outputs": [],
   "source": [
    "import brightway2 as bw\n",
    "from brightway2 import *"
   ]
  },
  {
   "cell_type": "markdown",
   "id": "18c5dc2a",
   "metadata": {},
   "source": [
    "##### Create/access project and bw2setup"
   ]
  },
  {
   "cell_type": "code",
   "execution_count": 2,
   "id": "142c12ad",
   "metadata": {
    "scrolled": true
   },
   "outputs": [
    {
     "name": "stdout",
     "output_type": "stream",
     "text": [
      "Creating default biosphere\n",
      "\n"
     ]
    },
    {
     "name": "stderr",
     "output_type": "stream",
     "text": [
      "Writing activities to SQLite3 database:\n"
     ]
    },
    {
     "name": "stdout",
     "output_type": "stream",
     "text": [
      "Applying strategy: normalize_units\n",
      "Applying strategy: drop_unspecified_subcategories\n",
      "Applying strategy: ensure_categories_are_tuples\n",
      "Applied 3 strategies in 0.01 seconds\n"
     ]
    },
    {
     "name": "stderr",
     "output_type": "stream",
     "text": [
      "0% [##############################] 100% | ETA: 00:00:00\n",
      "Total time elapsed: 00:00:01\n"
     ]
    },
    {
     "name": "stdout",
     "output_type": "stream",
     "text": [
      "Title: Writing activities to SQLite3 database:\n",
      "  Started: 07/28/2022 09:15:29\n",
      "  Finished: 07/28/2022 09:15:30\n",
      "  Total time elapsed: 00:00:01\n",
      "  CPU %: 77.80\n",
      "  Memory %: 0.34\n",
      "Created database: biosphere3\n",
      "Creating default LCIA methods\n",
      "\n",
      "Applying strategy: normalize_units\n",
      "Applying strategy: set_biosphere_type\n",
      "Applying strategy: fix_ecoinvent_38_lcia_implementation\n",
      "Applying strategy: drop_unspecified_subcategories\n",
      "Applying strategy: link_iterable_by_fields\n",
      "Applied 5 strategies in 3.53 seconds\n",
      "Wrote 975 LCIA methods with 254388 characterization factors\n",
      "Creating core data migrations\n",
      "\n"
     ]
    }
   ],
   "source": [
    "bw.projects.set_current(\"contribution-sankey\")\n",
    "bw.bw2setup() "
   ]
  },
  {
   "cell_type": "markdown",
   "id": "76431821",
   "metadata": {},
   "source": [
    "##### Import database (Ecoinvent in this case)"
   ]
  },
  {
   "cell_type": "code",
   "execution_count": 4,
   "id": "2bf2c0c1",
   "metadata": {
    "scrolled": true
   },
   "outputs": [
    {
     "name": "stdout",
     "output_type": "stream",
     "text": [
      "Extracting XML data from 19565 datasets\n",
      "Extracted 19565 datasets in 181.12 seconds\n",
      "Applying strategy: normalize_units\n",
      "Applying strategy: update_ecoinvent_locations\n",
      "Applying strategy: remove_zero_amount_coproducts\n",
      "Applying strategy: remove_zero_amount_inputs_with_no_activity\n",
      "Applying strategy: remove_unnamed_parameters\n",
      "Applying strategy: es2_assign_only_product_with_amount_as_reference_product\n",
      "Applying strategy: assign_single_product_as_activity\n",
      "Applying strategy: create_composite_code\n",
      "Applying strategy: drop_unspecified_subcategories\n",
      "Applying strategy: fix_ecoinvent_flows_pre35\n",
      "Applying strategy: drop_temporary_outdated_biosphere_flows\n",
      "Applying strategy: link_biosphere_by_flow_uuid\n",
      "Applying strategy: link_internal_technosphere_by_composite_code\n",
      "Applying strategy: delete_exchanges_missing_activity\n",
      "Applying strategy: delete_ghost_exchanges\n",
      "Applying strategy: remove_uncertainty_from_negative_loss_exchanges\n",
      "Applying strategy: fix_unreasonably_high_lognormal_uncertainties\n",
      "Applying strategy: set_lognormal_loc_value\n",
      "Applying strategy: convert_activity_parameters_to_list\n",
      "Applying strategy: add_cpc_classification_from_single_reference_product\n",
      "Applying strategy: delete_none_synonyms\n",
      "Applied 21 strategies in 12.65 seconds\n"
     ]
    },
    {
     "name": "stderr",
     "output_type": "stream",
     "text": [
      "Writing activities to SQLite3 database:\n"
     ]
    },
    {
     "name": "stdout",
     "output_type": "stream",
     "text": [
      "19565 datasets\n",
      "629959 exchanges\n",
      "0 unlinked exchanges\n",
      "  \n"
     ]
    },
    {
     "name": "stderr",
     "output_type": "stream",
     "text": [
      "0% [##############################] 100% | ETA: 00:00:00\n",
      "Total time elapsed: 00:02:26\n"
     ]
    },
    {
     "name": "stdout",
     "output_type": "stream",
     "text": [
      "Title: Writing activities to SQLite3 database:\n",
      "  Started: 07/28/2022 09:23:33\n",
      "  Finished: 07/28/2022 09:26:00\n",
      "  Total time elapsed: 00:02:26\n",
      "  CPU %: 71.10\n",
      "  Memory %: 7.24\n",
      "Created database: ecoinvent 3.8 cutoff\n"
     ]
    },
    {
     "data": {
      "text/plain": [
       "Brightway2 SQLiteBackend: ecoinvent 3.8 cutoff"
      ]
     },
     "execution_count": 4,
     "metadata": {},
     "output_type": "execute_result"
    }
   ],
   "source": [
    "if 'ecoinvent 3.8 cutoff' in bw.databases:\n",
    "    print(\"Database has already been imported.\")\n",
    "else:\n",
    "    #path = r\"C:\\...your path...\\datasets\"\n",
    "    path = r\"C:\\Ecoinvent\\3.8\\datasets\"\n",
    "    ei38 = bw.SingleOutputEcospold2Importer(path, 'ecoinvent 3.8 cutoff')\n",
    "    ei38\n",
    "    ei38.apply_strategies()\n",
    "    ei38.statistics()\n",
    "\n",
    "ei38.write_database()"
   ]
  },
  {
   "cell_type": "code",
   "execution_count": null,
   "id": "61d775a2",
   "metadata": {},
   "outputs": [],
   "source": []
  }
 ],
 "metadata": {
  "kernelspec": {
   "display_name": "Python 3",
   "language": "python",
   "name": "python3"
  },
  "language_info": {
   "codemirror_mode": {
    "name": "ipython",
    "version": 3
   },
   "file_extension": ".py",
   "mimetype": "text/x-python",
   "name": "python",
   "nbconvert_exporter": "python",
   "pygments_lexer": "ipython3",
   "version": "3.8.13"
  }
 },
 "nbformat": 4,
 "nbformat_minor": 5
}
