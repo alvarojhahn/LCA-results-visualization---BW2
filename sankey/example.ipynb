{
 "cells": [
  {
   "cell_type": "markdown",
   "id": "6adf02f4",
   "metadata": {},
   "source": [
    "## LCA contribution analysis - Sankey diagram"
   ]
  },
  {
   "cell_type": "code",
   "execution_count": 1,
   "id": "beb7967f",
   "metadata": {},
   "outputs": [],
   "source": [
    "import os\n",
    "import brightway2 as bw\n",
    "from brightway2 import *\n",
    "from bw2data.parameters import ActivityParameter, DatabaseParameter, ProjectParameter, Group\n",
    "import pandas as pd\n",
    "import numpy as np\n",
    "\n",
    "import plotly.graph_objects as go\n",
    "from jupyter_dash import JupyterDash #working with jupyter\n",
    "# import dash #working with IDE\n",
    "from dash import dcc\n",
    "from dash import html\n",
    "from dash.dependencies import Input,Output"
   ]
  },
  {
   "cell_type": "code",
   "execution_count": 2,
   "id": "e90d49dc",
   "metadata": {},
   "outputs": [],
   "source": [
    "# importing the functions - run this other notebook\n",
    "%run -i functions.ipynb"
   ]
  },
  {
   "cell_type": "code",
   "execution_count": 3,
   "id": "cb666a8a",
   "metadata": {},
   "outputs": [],
   "source": [
    "projects.set_current('contribution-sankey')\n",
    "eidb = bw.Database('ecoinvent 3.8 cutoff')"
   ]
  },
  {
   "cell_type": "code",
   "execution_count": 4,
   "id": "6d221215",
   "metadata": {},
   "outputs": [],
   "source": [
    "act1 = eidb.random()\n",
    "act2 = eidb.random()"
   ]
  },
  {
   "cell_type": "code",
   "execution_count": 5,
   "id": "884d98b9",
   "metadata": {},
   "outputs": [
    {
     "data": {
      "text/plain": [
       "['operation, computer, laptop, 68% active work with internet access 0.2 Mbit/s' (hour, CA-QC, None),\n",
       " 'electricity production, wind, 1-3MW turbine, onshore' (kilowatt hour, CN-XJ, None)]"
      ]
     },
     "execution_count": 5,
     "metadata": {},
     "output_type": "execute_result"
    }
   ],
   "source": [
    "activities = [act1, act2]\n",
    "activities"
   ]
  },
  {
   "cell_type": "code",
   "execution_count": 6,
   "id": "ba941a58",
   "metadata": {},
   "outputs": [],
   "source": [
    "methods = []\n",
    "for m in bw.methods:\n",
    "    if 'EF v3.0'== m[0]:\n",
    "        methods.append(m)"
   ]
  },
  {
   "cell_type": "code",
   "execution_count": 7,
   "id": "3ae6f087",
   "metadata": {
    "scrolled": false
   },
   "outputs": [
    {
     "data": {
      "text/html": [
       "\n",
       "        <iframe\n",
       "            width=\"100%\"\n",
       "            height=\"650\"\n",
       "            src=\"http://127.0.0.1:8050/\"\n",
       "            frameborder=\"0\"\n",
       "            allowfullscreen\n",
       "            \n",
       "        ></iframe>\n",
       "        "
      ],
      "text/plain": [
       "<IPython.lib.display.IFrame at 0x2a80eac5e50>"
      ]
     },
     "metadata": {},
     "output_type": "display_data"
    }
   ],
   "source": [
    "### It may take some seconds to load the figure.\n",
    "sankey(methods,activities).run_server(mode='inline')"
   ]
  },
  {
   "cell_type": "code",
   "execution_count": null,
   "id": "bfd74cbd",
   "metadata": {},
   "outputs": [],
   "source": []
  }
 ],
 "metadata": {
  "kernelspec": {
   "display_name": "Python 3",
   "language": "python",
   "name": "python3"
  },
  "language_info": {
   "codemirror_mode": {
    "name": "ipython",
    "version": 3
   },
   "file_extension": ".py",
   "mimetype": "text/x-python",
   "name": "python",
   "nbconvert_exporter": "python",
   "pygments_lexer": "ipython3",
   "version": "3.8.13"
  }
 },
 "nbformat": 4,
 "nbformat_minor": 5
}
